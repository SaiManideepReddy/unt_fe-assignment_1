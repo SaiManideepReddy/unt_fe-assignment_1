{
 "cells": [
  {
   "cell_type": "markdown",
   "id": "1a32edef",
   "metadata": {},
   "source": [
    "# CSCE-5222 Feature Engineering\n",
    "In Class Exercise 2 (ICE-2)\n",
    "\n",
    "Sai Manideep Reddy Pallerla\n",
    "11553308\n"
   ]
  },
  {
   "cell_type": "markdown",
   "id": "b6b065f2",
   "metadata": {},
   "source": [
    "Please click here and follow the article.\n",
    "This article is for text summarization using python.\n",
    "Please implement their code first. Then, try to apply their code to your data (5 long or short articles). You might notice that their code did not have the text cleaning except the stop-words. Please refer to the text cleaning methods used in ICE-1 and add appropriate text cleaning methods to the text summarization code. Then, apply the modified code to your data again.\n"
   ]
  },
  {
   "cell_type": "code",
   "execution_count": 31,
   "id": "ddb048dc",
   "metadata": {},
   "outputs": [
    {
     "name": "stdout",
     "output_type": "stream",
     "text": [
      "In an attempt to build an AI-ready workforce, Microsoft announced Intelligent Cloud Hub which has been launched to empower the next generation of students with AI-ready skills\n",
      "Envisioned as a three-year collaborative program, Intelligent Cloud Hub will support around 100 institutions with AI infrastructure, course content and curriculum, developer support, development tools and give students access to cloud and AI services\n",
      "As part of the program, the Redmond giant which wants to expand its reach and is planning to build a strong developer ecosystem in India with the program will set up the core AI infrastructure and IoT Hub for the selected campuses\n",
      "The company will provide AI development tools and Azure AI services such as Microsoft Cognitive Services, Bot Services and Azure Machine Learning.According to Manish Prakash, Country General Manager-PS, Health and Education, Microsoft India, said, \"With AI being the defining technology of our time, it is transforming lives and industry and the jobs of tomorrow will require a different skillset\n",
      "This will require more collaborations and training and working with AI\n",
      "Thatâ€™s why it has become more critical than ever for educational institutions to integrate new cloud and AI technologies\n",
      "The program is an attempt to ramp up the institutional set-up and build capabilities among the educators to educate the workforce of tomorrow.\" The program aims to build up the cognitive skills and in-depth understanding of developing intelligent cloud connected solutions for applications across industry\n",
      "Earlier in April this year, the company announced Microsoft Professional Program In AI as a learning track open to the public\n",
      "The program was developed to provide job ready skills to programmers who wanted to hone their skills in AI and data science with a series of online courses which featured hands-on labs and expert instructors as well\n",
      "This program also included developer-focused AI school that provided a bunch of assets to help build AI skills.\n",
      "Indexes of top ranked_sentence order are  [(0.15083257041122708, ['Envisioned', 'as', 'a', 'three-year', 'collaborative', 'program,', 'Intelligent', 'Cloud', 'Hub', 'will', 'support', 'around', '100', 'institutions', 'with', 'AI', 'infrastructure,', 'course', 'content', 'and', 'curriculum,', 'developer', 'support,', 'development', 'tools', 'and', 'give', 'students', 'access', 'to', 'cloud', 'and', 'AI', 'services']), (0.13161201335715553, ['The', 'company', 'will', 'provide', 'AI', 'development', 'tools', 'and', 'Azure', 'AI', 'services', 'such', 'as', 'Microsoft', 'Cognitive', 'Services,', 'Bot', 'Services', 'and', 'Azure', 'Machine', 'Learning.According', 'to', 'Manish', 'Prakash,', 'Country', 'General', 'Manager-PS,', 'Health', 'and', 'Education,', 'Microsoft', 'India,', 'said,', '\"With', 'AI', 'being', 'the', 'defining', 'technology', 'of', 'our', 'time,', 'it', 'is', 'transforming', 'lives', 'and', 'industry', 'and', 'the', 'jobs', 'of', 'tomorrow', 'will', 'require', 'a', 'different', 'skillset']), (0.11403047674961148, ['Earlier', 'in', 'April', 'this', 'year,', 'the', 'company', 'announced', 'Microsoft', 'Professional', 'Program', 'In', 'AI', 'as', 'a', 'learning', 'track', 'open', 'to', 'the', 'public']), (0.10721749759953525, ['In', 'an', 'attempt', 'to', 'build', 'an', 'AI-ready', 'workforce,', 'Microsoft', 'announced', 'Intelligent', 'Cloud', 'Hub', 'which', 'has', 'been', 'launched', 'to', 'empower', 'the', 'next', 'generation', 'of', 'students', 'with', 'AI-ready', 'skills']), (0.10404298514456578, ['As', 'part', 'of', 'the', 'program,', 'the', 'Redmond', 'giant', 'which', 'wants', 'to', 'expand', 'its', 'reach', 'and', 'is', 'planning', 'to', 'build', 'a', 'strong', 'developer', 'ecosystem', 'in', 'India', 'with', 'the', 'program', 'will', 'set', 'up', 'the', 'core', 'AI', 'infrastructure', 'and', 'IoT', 'Hub', 'for', 'the', 'selected', 'campuses']), (0.10031366655994461, ['Thatâ€™s', 'why', 'it', 'has', 'become', 'more', 'critical', 'than', 'ever', 'for', 'educational', 'institutions', 'to', 'integrate', 'new', 'cloud', 'and', 'AI', 'technologies']), (0.10001137283486655, ['The', 'program', 'is', 'an', 'attempt', 'to', 'ramp', 'up', 'the', 'institutional', 'set-up', 'and', 'build', 'capabilities', 'among', 'the', 'educators', 'to', 'educate', 'the', 'workforce', 'of', 'tomorrow.\"', 'The', 'program', 'aims', 'to', 'build', 'up', 'the', 'cognitive', 'skills', 'and', 'in-depth', 'understanding', 'of', 'developing', 'intelligent', 'cloud', 'connected', 'solutions', 'for', 'applications', 'across', 'industry']), (0.09916750119894319, ['This', 'will', 'require', 'more', 'collaborations', 'and', 'training', 'and', 'working', 'with', 'AI']), (0.09277191614415067, ['The', 'program', 'was', 'developed', 'to', 'provide', 'job', 'ready', 'skills', 'to', 'programmers', 'who', 'wanted', 'to', 'hone', 'their', 'skills', 'in', 'AI', 'and', 'data', 'science', 'with', 'a', 'series', 'of', 'online', 'courses', 'which', 'featured', 'hands-on', 'labs', 'and', 'expert', 'instructors', 'as', 'well'])]\n",
      "Summarize Text: \n",
      " Envisioned as a three-year collaborative program, Intelligent Cloud Hub will support around 100 institutions with AI infrastructure, course content and curriculum, developer support, development tools and give students access to cloud and AI services. The company will provide AI development tools and Azure AI services such as Microsoft Cognitive Services, Bot Services and Azure Machine Learning.According to Manish Prakash, Country General Manager-PS, Health and Education, Microsoft India, said, \"With AI being the defining technology of our time, it is transforming lives and industry and the jobs of tomorrow will require a different skillset\n"
     ]
    }
   ],
   "source": [
    "\n",
    "#!/usr/bin/env python\n",
    "# coding: utf-8\n",
    "\n",
    "from nltk.corpus import stopwords\n",
    "from nltk.cluster.util import cosine_distance\n",
    "import numpy as np\n",
    "import networkx as nx\n",
    " \n",
    "def read_article(file_name):\n",
    "    file = open(file_name, \"r\")\n",
    "    filedata = file.readlines()\n",
    "    article = filedata[0].split(\". \")\n",
    "    sentences = []\n",
    "\n",
    "    for sentence in article:\n",
    "        print(sentence)\n",
    "        sentences.append(sentence.replace(\"[^a-zA-Z]\", \" \").split(\" \"))\n",
    "    sentences.pop() \n",
    "    \n",
    "    return sentences\n",
    "\n",
    "def sentence_similarity(sent1, sent2, stopwords=None):\n",
    "    if stopwords is None:\n",
    "        stopwords = []\n",
    " \n",
    "    sent1 = [w.lower() for w in sent1]\n",
    "    sent2 = [w.lower() for w in sent2]\n",
    " \n",
    "    all_words = list(set(sent1 + sent2))\n",
    " \n",
    "    vector1 = [0] * len(all_words)\n",
    "    vector2 = [0] * len(all_words)\n",
    " \n",
    "    # build the vector for the first sentence\n",
    "    for w in sent1:\n",
    "        if w in stopwords:\n",
    "            continue\n",
    "        vector1[all_words.index(w)] += 1\n",
    " \n",
    "    # build the vector for the second sentence\n",
    "    for w in sent2:\n",
    "        if w in stopwords:\n",
    "            continue\n",
    "        vector2[all_words.index(w)] += 1\n",
    " \n",
    "    return 1 - cosine_distance(vector1, vector2)\n",
    " \n",
    "def build_similarity_matrix(sentences, stop_words):\n",
    "    # Create an empty similarity matrix\n",
    "    similarity_matrix = np.zeros((len(sentences), len(sentences)))\n",
    " \n",
    "    for idx1 in range(len(sentences)):\n",
    "        for idx2 in range(len(sentences)):\n",
    "            if idx1 == idx2: #ignore if both are same sentences\n",
    "                continue \n",
    "            similarity_matrix[idx1][idx2] = sentence_similarity(sentences[idx1], sentences[idx2], stop_words)\n",
    "\n",
    "    return similarity_matrix\n",
    "\n",
    "\n",
    "def generate_summary(file_name, top_n=5):\n",
    "    stop_words = stopwords.words('english')\n",
    "    summarize_text = []\n",
    "\n",
    "    # Step 1 - Read text anc split it\n",
    "    sentences =  read_article(file_name)\n",
    "\n",
    "    # Step 2 - Generate Similary Martix across sentences\n",
    "    sentence_similarity_martix = build_similarity_matrix(sentences, stop_words)\n",
    "\n",
    "    # Step 3 - Rank sentences in similarity martix\n",
    "    sentence_similarity_graph = nx.from_numpy_array(sentence_similarity_martix)\n",
    "    scores = nx.pagerank(sentence_similarity_graph)\n",
    "\n",
    "    # Step 4 - Sort the rank and pick top sentences\n",
    "    ranked_sentence = sorted(((scores[i],s) for i,s in enumerate(sentences)), reverse=True)    \n",
    "    print(\"Indexes of top ranked_sentence order are \", ranked_sentence)    \n",
    "\n",
    "    for i in range(top_n):\n",
    "      summarize_text.append(\" \".join(ranked_sentence[i][1]))\n",
    "\n",
    "    # Step 5 - Offcourse, output the summarize texr\n",
    "    print(\"Summarize Text: \\n\", \". \".join(summarize_text))\n",
    "\n",
    "# let's begin\n",
    "generate_summary( \"msft.txt\", 2)"
   ]
  },
  {
   "cell_type": "markdown",
   "id": "b00cf191",
   "metadata": {},
   "source": [
    "# 1st Article"
   ]
  },
  {
   "cell_type": "code",
   "execution_count": 32,
   "id": "2e07dbb5",
   "metadata": {},
   "outputs": [
    {
     "name": "stdout",
     "output_type": "stream",
     "text": [
      "We all have been affected by the current COVID-19 pandemic\n",
      "However, the impact of the pandemic and its consequences are felt differently depending on our status as individuals and as members of society\n",
      "While some try to adapt to working online, homeschooling their children and ordering food via Instacart, others have no choice but to be exposed to the virus while keeping society functioning\n",
      "Our different social identities and the social groups we belong to determine our inclusion within society and, by extension, our vulnerability to epidemics.\n",
      "\n",
      "Indexes of top ranked_sentence order are  [(0.4864858243244207, ['However,', 'the', 'impact', 'of', 'the', 'pandemic', 'and', 'its', 'consequences', 'are', 'felt', 'differently', 'depending', 'on', 'our', 'status', 'as', 'individuals', 'and', 'as', 'members', 'of', 'society']), (0.32844736449873707, ['We', 'all', 'have', 'been', 'affected', 'by', 'the', 'current', 'COVID-19', 'pandemic']), (0.18506681117684165, ['While', 'some', 'try', 'to', 'adapt', 'to', 'working', 'online,', 'homeschooling', 'their', 'children', 'and', 'ordering', 'food', 'via', 'Instacart,', 'others', 'have', 'no', 'choice', 'but', 'to', 'be', 'exposed', 'to', 'the', 'virus', 'while', 'keeping', 'society', 'functioning'])]\n",
      "Summarize Text: \n",
      " However, the impact of the pandemic and its consequences are felt differently depending on our status as individuals and as members of society. We all have been affected by the current COVID-19 pandemic\n"
     ]
    }
   ],
   "source": [
    "generate_summary( \"001.txt\", 2 )"
   ]
  },
  {
   "cell_type": "markdown",
   "id": "0708ae4a",
   "metadata": {},
   "source": [
    "# 2nd Article"
   ]
  },
  {
   "cell_type": "code",
   "execution_count": 33,
   "id": "0a3e625e",
   "metadata": {},
   "outputs": [
    {
     "name": "stdout",
     "output_type": "stream",
     "text": [
      "Air is a fluid made up of invisible, rapidly and randomly moving molecules, so airborne particles disperse over time indoors, such as in a room or on a bus\n",
      "An infected person may exhale particles containing the virus, and the closer you are to them, the more likely you are to inhale some virus-containing particles\n",
      "But the longer the period you both spend in the room, the more spread out the virus will become\n",
      "If you are outdoors, the space is almost infinite, so the virus doesnâ€™t build up in the same way\n",
      "However, someone can still transmit the virus if youâ€™re close to them.\n",
      "Indexes of top ranked_sentence order are  [(0.25, ['If', 'you', 'are', 'outdoors,', 'the', 'space', 'is', 'almost', 'infinite,', 'so', 'the', 'virus', 'doesnâ€™t', 'build', 'up', 'in', 'the', 'same', 'way']), (0.25, ['But', 'the', 'longer', 'the', 'period', 'you', 'both', 'spend', 'in', 'the', 'room,', 'the', 'more', 'spread', 'out', 'the', 'virus', 'will', 'become']), (0.25, ['An', 'infected', 'person', 'may', 'exhale', 'particles', 'containing', 'the', 'virus,', 'and', 'the', 'closer', 'you', 'are', 'to', 'them,', 'the', 'more', 'likely', 'you', 'are', 'to', 'inhale', 'some', 'virus-containing', 'particles']), (0.25, ['Air', 'is', 'a', 'fluid', 'made', 'up', 'of', 'invisible,', 'rapidly', 'and', 'randomly', 'moving', 'molecules,', 'so', 'airborne', 'particles', 'disperse', 'over', 'time', 'indoors,', 'such', 'as', 'in', 'a', 'room', 'or', 'on', 'a', 'bus'])]\n",
      "Summarize Text: \n",
      " If you are outdoors, the space is almost infinite, so the virus doesnâ€™t build up in the same way. But the longer the period you both spend in the room, the more spread out the virus will become\n"
     ]
    }
   ],
   "source": [
    "generate_summary( \"002.txt\", 2 )"
   ]
  },
  {
   "cell_type": "markdown",
   "id": "76c99c09",
   "metadata": {},
   "source": [
    "# 3rd Article"
   ]
  },
  {
   "cell_type": "code",
   "execution_count": 34,
   "id": "860e37c0",
   "metadata": {},
   "outputs": [
    {
     "name": "stdout",
     "output_type": "stream",
     "text": [
      "This map shows a rolling average of daily cases for the past week\n",
      "This is the best sign of hot spots\n",
      "Our experts monitor this 7-day average instead of new cases, since many local health departments are no longer reporting case counts every 24 hours\n",
      "See the percentage of fully vaccinated people in any state by hovering over that state in the map below.\n",
      "Indexes of top ranked_sentence order are  [(0.46511615458001815, ['This', 'map', 'shows', 'a', 'rolling', 'average', 'of', 'daily', 'cases', 'for', 'the', 'past', 'week']), (0.46511615458001815, ['Our', 'experts', 'monitor', 'this', '7-day', 'average', 'instead', 'of', 'new', 'cases,', 'since', 'many', 'local', 'health', 'departments', 'are', 'no', 'longer', 'reporting', 'case', 'counts', 'every', '24', 'hours']), (0.06976769083996354, ['This', 'is', 'the', 'best', 'sign', 'of', 'hot', 'spots'])]\n",
      "Summarize Text: \n",
      " This map shows a rolling average of daily cases for the past week. Our experts monitor this 7-day average instead of new cases, since many local health departments are no longer reporting case counts every 24 hours\n"
     ]
    }
   ],
   "source": [
    "generate_summary( \"003.txt\", 2 )"
   ]
  },
  {
   "cell_type": "markdown",
   "id": "ee5d60b3",
   "metadata": {},
   "source": [
    "# 4th Article"
   ]
  },
  {
   "cell_type": "code",
   "execution_count": 35,
   "id": "c4bd332b",
   "metadata": {},
   "outputs": [
    {
     "name": "stdout",
     "output_type": "stream",
     "text": [
      "The pandemic has been affecting the entire food system and has laid bare its fragility\n",
      "Border closures, trade restrictions and confinement measures have been preventing farmers from accessing markets, including for buying inputs and selling their produce, and agricultural workers from harvesting crops, thus disrupting domestic and international food supply chains and reducing access to healthy, safe and diverse diets\n",
      "The pandemic has decimated jobs and placed millions of livelihoods at risk\n",
      "As breadwinners lose jobs, fall ill and die, the food security and nutrition of millions of women and men are under threat, with those in low-income countries, particularly the most marginalized populations, which include small-scale farmers and indigenous peoples, being hardest hit.\n",
      "Indexes of top ranked_sentence order are  [(0.48648582432442083, ['The', 'pandemic', 'has', 'been', 'affecting', 'the', 'entire', 'food', 'system', 'and', 'has', 'laid', 'bare', 'its', 'fragility']), (0.33174160567237804, ['The', 'pandemic', 'has', 'decimated', 'jobs', 'and', 'placed', 'millions', 'of', 'livelihoods', 'at', 'risk']), (0.18177257000320063, ['Border', 'closures,', 'trade', 'restrictions', 'and', 'confinement', 'measures', 'have', 'been', 'preventing', 'farmers', 'from', 'accessing', 'markets,', 'including', 'for', 'buying', 'inputs', 'and', 'selling', 'their', 'produce,', 'and', 'agricultural', 'workers', 'from', 'harvesting', 'crops,', 'thus', 'disrupting', 'domestic', 'and', 'international', 'food', 'supply', 'chains', 'and', 'reducing', 'access', 'to', 'healthy,', 'safe', 'and', 'diverse', 'diets'])]\n",
      "Summarize Text: \n",
      " The pandemic has been affecting the entire food system and has laid bare its fragility. The pandemic has decimated jobs and placed millions of livelihoods at risk\n"
     ]
    }
   ],
   "source": [
    "generate_summary( \"004.txt\", 2 )"
   ]
  },
  {
   "cell_type": "markdown",
   "id": "788a4e3b",
   "metadata": {},
   "source": [
    "# 5th Article"
   ]
  },
  {
   "cell_type": "code",
   "execution_count": 36,
   "id": "f40f0696",
   "metadata": {},
   "outputs": [
    {
     "name": "stdout",
     "output_type": "stream",
     "text": [
      "We must recognize this opportunity to build back better, as noted in the Policy Brief issued by the United Nations Secretary-General\n",
      "We are committed to pooling our expertise and experience to support countries in their crisis response measures and efforts to achieve the Sustainable Development Goals\n",
      "We need to develop long-term sustainable strategies to address the challenges facing the health and agri-food sectors\n",
      "Priority should be given to addressing underlying food security and malnutrition challenges, tackling rural poverty, in particular through more and better jobs in the rural economy, extending social protection to all, facilitating safe migration pathways and promoting the formalization of the informal economy.\n",
      "Indexes of top ranked_sentence order are  [(0.46511615458001815, ['We', 'need', 'to', 'develop', 'long-term', 'sustainable', 'strategies', 'to', 'address', 'the', 'challenges', 'facing', 'the', 'health', 'and', 'agri-food', 'sectors']), (0.46511615458001815, ['We', 'are', 'committed', 'to', 'pooling', 'our', 'expertise', 'and', 'experience', 'to', 'support', 'countries', 'in', 'their', 'crisis', 'response', 'measures', 'and', 'efforts', 'to', 'achieve', 'the', 'Sustainable', 'Development', 'Goals']), (0.06976769083996354, ['We', 'must', 'recognize', 'this', 'opportunity', 'to', 'build', 'back', 'better,', 'as', 'noted', 'in', 'the', 'Policy', 'Brief', 'issued', 'by', 'the', 'United', 'Nations', 'Secretary-General'])]\n",
      "Summarize Text: \n",
      " We need to develop long-term sustainable strategies to address the challenges facing the health and agri-food sectors. We are committed to pooling our expertise and experience to support countries in their crisis response measures and efforts to achieve the Sustainable Development Goals\n"
     ]
    }
   ],
   "source": [
    "generate_summary( \"005.txt\", 2 )"
   ]
  },
  {
   "cell_type": "markdown",
   "id": "7de4a12d",
   "metadata": {},
   "source": [
    "# Text Cleaning"
   ]
  },
  {
   "cell_type": "code",
   "execution_count": 37,
   "id": "9fb2f710",
   "metadata": {},
   "outputs": [],
   "source": [
    "import pandas as pd\n",
    "import matplotlib.pyplot as plt\n",
    "import pickle\n",
    "import seaborn as sns\n",
    "sns.set_style(\"whitegrid\")\n",
    "import altair as alt\n",
    "#alt.renderers.enable(\"notebook\")\n",
    "\n",
    "# Code for hiding seaborn warnings\n",
    "import warnings\n",
    "warnings.filterwarnings(\"ignore\")\n",
    "\n",
    "import pickle\n",
    "import pandas as pd\n",
    "import re\n",
    "import nltk\n",
    "from nltk.corpus import stopwords\n",
    "from nltk.stem import WordNetLemmatizer\n",
    "from sklearn.feature_extraction.text import TfidfVectorizer\n",
    "from sklearn.model_selection import train_test_split\n",
    "from sklearn.feature_selection import chi2\n",
    "import numpy as np"
   ]
  },
  {
   "cell_type": "code",
   "execution_count": 38,
   "id": "8ac58b4e",
   "metadata": {},
   "outputs": [],
   "source": [
    "\n",
    "\n",
    "#update the path here with the dataset file location from step 01\n",
    "df_path = \"E:/unt_fe/unt_fe-assignment_2/ICE2/\" \n",
    "df_path2 = df_path + 'SAI_ICE2.csv'\n",
    "df = pd.read_csv(df_path2, sep=';' ,encoding= 'unicode_escape' , on_bad_lines='skip')\n"
   ]
  },
  {
   "cell_type": "code",
   "execution_count": 39,
   "id": "110368c8",
   "metadata": {},
   "outputs": [],
   "source": [
    "\n",
    "# \\r and \\n\n",
    "\n",
    "df['Content_Parsed_1'] = df['Content'].str.replace(\"\\r\", \" \")\n",
    "df['Content_Parsed_1'] = df['Content_Parsed_1'].str.replace(\"\\n\", \" \")\n",
    "df['Content_Parsed_1'] = df['Content_Parsed_1'].str.replace(\"    \", \" \")\n",
    "df['Content_Parsed_1'] = df['Content_Parsed_1'].str.replace('\"', '')\n",
    "\n"
   ]
  },
  {
   "cell_type": "code",
   "execution_count": 40,
   "id": "60b40ebc",
   "metadata": {},
   "outputs": [],
   "source": [
    "# Lowercasing the text\n",
    "df['Content_Parsed_2'] = df['Content_Parsed_1'].str.lower()\n"
   ]
  },
  {
   "cell_type": "code",
   "execution_count": 41,
   "id": "acae5d9d",
   "metadata": {},
   "outputs": [],
   "source": [
    "punctuation_signs = list(\"?:!.,;\")\n",
    "df['Content_Parsed_3'] = df['Content_Parsed_2']\n",
    "for punct_sign in punctuation_signs:\n",
    "    df['Content_Parsed_3'] = df['Content_Parsed_3'].str.replace(punct_sign, '')"
   ]
  },
  {
   "cell_type": "code",
   "execution_count": 42,
   "id": "e928f30b",
   "metadata": {},
   "outputs": [],
   "source": [
    "df['Content_Parsed_4'] = df['Content_Parsed_3'].str.replace(\"'s\", \"\")"
   ]
  },
  {
   "cell_type": "code",
   "execution_count": 43,
   "id": "05a6edda",
   "metadata": {},
   "outputs": [
    {
     "name": "stdout",
     "output_type": "stream",
     "text": [
      "------------------------------------------------------------\n"
     ]
    },
    {
     "name": "stderr",
     "output_type": "stream",
     "text": [
      "[nltk_data] Downloading package punkt to C:\\Users\\Sai\n",
      "[nltk_data]     Manideep\\AppData\\Roaming\\nltk_data...\n",
      "[nltk_data]   Package punkt is already up-to-date!\n",
      "[nltk_data] Downloading package wordnet to C:\\Users\\Sai\n",
      "[nltk_data]     Manideep\\AppData\\Roaming\\nltk_data...\n",
      "[nltk_data]   Package wordnet is already up-to-date!\n",
      "[nltk_data] Downloading package stopwords to C:\\Users\\Sai\n",
      "[nltk_data]     Manideep\\AppData\\Roaming\\nltk_data...\n",
      "[nltk_data]   Package stopwords is already up-to-date!\n"
     ]
    },
    {
     "data": {
      "text/plain": [
       "True"
      ]
     },
     "execution_count": 43,
     "metadata": {},
     "output_type": "execute_result"
    }
   ],
   "source": [
    "# Downloading punkt and wordnet from NLTK\n",
    "nltk.download('punkt')\n",
    "print(\"------------------------------------------------------------\")\n",
    "nltk.download('wordnet')\n",
    "\n",
    "wordnet_lemmatizer = WordNetLemmatizer()\n",
    "\n",
    "nrows = len(df)\n",
    "lemmatized_text_list = []\n",
    "\n",
    "for row in range(0, nrows):\n",
    "    \n",
    "    # Create an empty list containing lemmatized words\n",
    "    lemmatized_list = []\n",
    "    \n",
    "    # Save the text and its words into an object\n",
    "    text = df.loc[row]['Content_Parsed_4']\n",
    "    text_words = text.split(\" \")\n",
    "\n",
    "    # Iterate through every word to lemmatize\n",
    "    for word in text_words:\n",
    "        lemmatized_list.append(wordnet_lemmatizer.lemmatize(word, pos=\"v\"))\n",
    "        \n",
    "    # Join the list\n",
    "    lemmatized_text = \" \".join(lemmatized_list)\n",
    "    \n",
    "    # Append to the list containing the texts\n",
    "    lemmatized_text_list.append(lemmatized_text)\n",
    "df['Content_Parsed_5'] = lemmatized_text_list\n",
    "\n",
    "nltk.download('stopwords')\n"
   ]
  },
  {
   "cell_type": "code",
   "execution_count": 44,
   "id": "74594bff",
   "metadata": {},
   "outputs": [
    {
     "data": {
      "text/plain": [
       "['i', 'me', 'my', 'myself', 'we', 'our', 'ours', 'ourselves', 'you', \"you're\"]"
      ]
     },
     "execution_count": 44,
     "metadata": {},
     "output_type": "execute_result"
    }
   ],
   "source": [
    "# Loading the stop words in english\n",
    "stop_words = list(stopwords.words('english'))\n",
    "stop_words[0:10]\n"
   ]
  },
  {
   "cell_type": "code",
   "execution_count": 45,
   "id": "c9c38293",
   "metadata": {},
   "outputs": [
    {
     "data": {
      "text/plain": [
       "'We all have been affected by the current COVID-19 pandemic. However, the impact of the pandemic and its consequences are felt differently depending on our status as individuals and as members of society. While some try to adapt to working online, homeschooling their children and ordering food via Instacart, others have no choice but to be exposed to the virus while keeping society functioning. Our different social identities and the social groups we belong to determine our inclusion within society and, by extension, our vulnerability to epidemics.\\r\\n\\r\\nCOVID-19 is killing people on a large scale. As of October 10, 2020, more than 7.7 million people across every state in the United States and its four territories had tested positive for COVID-19. According to the New York Times database, at least 213,876 people with the virus have died in the United States.[1] However, these alarming numbers give us only half of the picture; a closer look at data by different social identities (such as class, gender, age, race, and medical history) shows that minorities have been disproportionally affected by the pandemic. These minorities in the United States are not having their right to health fulfilled.'"
      ]
     },
     "execution_count": 45,
     "metadata": {},
     "output_type": "execute_result"
    }
   ],
   "source": [
    "df['Content_Parsed_6'] = df['Content_Parsed_5']\n",
    "\n",
    "for stop_word in stop_words:\n",
    "\n",
    "    regex_stopword = r\"\\b\" + stop_word + r\"\\b\"\n",
    "    df['Content_Parsed_6'] = df['Content_Parsed_6'].str.replace(regex_stopword, '')\n",
    "    \n",
    "df.loc[0]['Content']"
   ]
  },
  {
   "cell_type": "code",
   "execution_count": 46,
   "id": "41f067a3",
   "metadata": {},
   "outputs": [
    {
     "name": "stdout",
     "output_type": "stream",
     "text": [
      "We all have been affected by the current COVID-19 pandemic\n",
      "However, the impact of the pandemic and its consequences are felt differently depending on our status as individuals and as members of society\n",
      "While some try to adapt to working online, homeschooling their children and ordering food via Instacart, others have no choice but to be exposed to the virus while keeping society functioning\n",
      "Our different social identities and the social groups we belong to determine our inclusion within society and, by extension, our vulnerability to epidemics.\n",
      "\n",
      "Indexes of top ranked_sentence order are  [(0.4864858243244207, ['However,', 'the', 'impact', 'of', 'the', 'pandemic', 'and', 'its', 'consequences', 'are', 'felt', 'differently', 'depending', 'on', 'our', 'status', 'as', 'individuals', 'and', 'as', 'members', 'of', 'society']), (0.32844736449873707, ['We', 'all', 'have', 'been', 'affected', 'by', 'the', 'current', 'COVID-19', 'pandemic']), (0.18506681117684165, ['While', 'some', 'try', 'to', 'adapt', 'to', 'working', 'online,', 'homeschooling', 'their', 'children', 'and', 'ordering', 'food', 'via', 'Instacart,', 'others', 'have', 'no', 'choice', 'but', 'to', 'be', 'exposed', 'to', 'the', 'virus', 'while', 'keeping', 'society', 'functioning'])]\n",
      "Summarize Text: \n",
      " However, the impact of the pandemic and its consequences are felt differently depending on our status as individuals and as members of society. We all have been affected by the current COVID-19 pandemic\n"
     ]
    }
   ],
   "source": [
    "generate_summary( \"001.txt\", 2 )"
   ]
  },
  {
   "cell_type": "code",
   "execution_count": 47,
   "id": "4ea8aaee",
   "metadata": {},
   "outputs": [
    {
     "name": "stdout",
     "output_type": "stream",
     "text": [
      "Air is a fluid made up of invisible, rapidly and randomly moving molecules, so airborne particles disperse over time indoors, such as in a room or on a bus\n",
      "An infected person may exhale particles containing the virus, and the closer you are to them, the more likely you are to inhale some virus-containing particles\n",
      "But the longer the period you both spend in the room, the more spread out the virus will become\n",
      "If you are outdoors, the space is almost infinite, so the virus doesnâ€™t build up in the same way\n",
      "However, someone can still transmit the virus if youâ€™re close to them.\n",
      "Indexes of top ranked_sentence order are  [(0.25, ['If', 'you', 'are', 'outdoors,', 'the', 'space', 'is', 'almost', 'infinite,', 'so', 'the', 'virus', 'doesnâ€™t', 'build', 'up', 'in', 'the', 'same', 'way']), (0.25, ['But', 'the', 'longer', 'the', 'period', 'you', 'both', 'spend', 'in', 'the', 'room,', 'the', 'more', 'spread', 'out', 'the', 'virus', 'will', 'become']), (0.25, ['An', 'infected', 'person', 'may', 'exhale', 'particles', 'containing', 'the', 'virus,', 'and', 'the', 'closer', 'you', 'are', 'to', 'them,', 'the', 'more', 'likely', 'you', 'are', 'to', 'inhale', 'some', 'virus-containing', 'particles']), (0.25, ['Air', 'is', 'a', 'fluid', 'made', 'up', 'of', 'invisible,', 'rapidly', 'and', 'randomly', 'moving', 'molecules,', 'so', 'airborne', 'particles', 'disperse', 'over', 'time', 'indoors,', 'such', 'as', 'in', 'a', 'room', 'or', 'on', 'a', 'bus'])]\n",
      "Summarize Text: \n",
      " If you are outdoors, the space is almost infinite, so the virus doesnâ€™t build up in the same way. But the longer the period you both spend in the room, the more spread out the virus will become\n"
     ]
    }
   ],
   "source": [
    "generate_summary( \"002.txt\", 2 )"
   ]
  },
  {
   "cell_type": "code",
   "execution_count": 48,
   "id": "8df47c99",
   "metadata": {},
   "outputs": [
    {
     "name": "stdout",
     "output_type": "stream",
     "text": [
      "This map shows a rolling average of daily cases for the past week\n",
      "This is the best sign of hot spots\n",
      "Our experts monitor this 7-day average instead of new cases, since many local health departments are no longer reporting case counts every 24 hours\n",
      "See the percentage of fully vaccinated people in any state by hovering over that state in the map below.\n",
      "Indexes of top ranked_sentence order are  [(0.46511615458001815, ['This', 'map', 'shows', 'a', 'rolling', 'average', 'of', 'daily', 'cases', 'for', 'the', 'past', 'week']), (0.46511615458001815, ['Our', 'experts', 'monitor', 'this', '7-day', 'average', 'instead', 'of', 'new', 'cases,', 'since', 'many', 'local', 'health', 'departments', 'are', 'no', 'longer', 'reporting', 'case', 'counts', 'every', '24', 'hours']), (0.06976769083996354, ['This', 'is', 'the', 'best', 'sign', 'of', 'hot', 'spots'])]\n",
      "Summarize Text: \n",
      " This map shows a rolling average of daily cases for the past week. Our experts monitor this 7-day average instead of new cases, since many local health departments are no longer reporting case counts every 24 hours\n"
     ]
    }
   ],
   "source": [
    "generate_summary( \"003.txt\", 2 )"
   ]
  },
  {
   "cell_type": "code",
   "execution_count": 49,
   "id": "c9b3ad45",
   "metadata": {},
   "outputs": [
    {
     "name": "stdout",
     "output_type": "stream",
     "text": [
      "The pandemic has been affecting the entire food system and has laid bare its fragility\n",
      "Border closures, trade restrictions and confinement measures have been preventing farmers from accessing markets, including for buying inputs and selling their produce, and agricultural workers from harvesting crops, thus disrupting domestic and international food supply chains and reducing access to healthy, safe and diverse diets\n",
      "The pandemic has decimated jobs and placed millions of livelihoods at risk\n",
      "As breadwinners lose jobs, fall ill and die, the food security and nutrition of millions of women and men are under threat, with those in low-income countries, particularly the most marginalized populations, which include small-scale farmers and indigenous peoples, being hardest hit.\n",
      "Indexes of top ranked_sentence order are  [(0.48648582432442083, ['The', 'pandemic', 'has', 'been', 'affecting', 'the', 'entire', 'food', 'system', 'and', 'has', 'laid', 'bare', 'its', 'fragility']), (0.33174160567237804, ['The', 'pandemic', 'has', 'decimated', 'jobs', 'and', 'placed', 'millions', 'of', 'livelihoods', 'at', 'risk']), (0.18177257000320063, ['Border', 'closures,', 'trade', 'restrictions', 'and', 'confinement', 'measures', 'have', 'been', 'preventing', 'farmers', 'from', 'accessing', 'markets,', 'including', 'for', 'buying', 'inputs', 'and', 'selling', 'their', 'produce,', 'and', 'agricultural', 'workers', 'from', 'harvesting', 'crops,', 'thus', 'disrupting', 'domestic', 'and', 'international', 'food', 'supply', 'chains', 'and', 'reducing', 'access', 'to', 'healthy,', 'safe', 'and', 'diverse', 'diets'])]\n",
      "Summarize Text: \n",
      " The pandemic has been affecting the entire food system and has laid bare its fragility. The pandemic has decimated jobs and placed millions of livelihoods at risk\n"
     ]
    }
   ],
   "source": [
    "generate_summary( \"004.txt\", 2 )"
   ]
  },
  {
   "cell_type": "code",
   "execution_count": 50,
   "id": "9ca1a0c1",
   "metadata": {},
   "outputs": [
    {
     "name": "stdout",
     "output_type": "stream",
     "text": [
      "We must recognize this opportunity to build back better, as noted in the Policy Brief issued by the United Nations Secretary-General\n",
      "We are committed to pooling our expertise and experience to support countries in their crisis response measures and efforts to achieve the Sustainable Development Goals\n",
      "We need to develop long-term sustainable strategies to address the challenges facing the health and agri-food sectors\n",
      "Priority should be given to addressing underlying food security and malnutrition challenges, tackling rural poverty, in particular through more and better jobs in the rural economy, extending social protection to all, facilitating safe migration pathways and promoting the formalization of the informal economy.\n",
      "Indexes of top ranked_sentence order are  [(0.46511615458001815, ['We', 'need', 'to', 'develop', 'long-term', 'sustainable', 'strategies', 'to', 'address', 'the', 'challenges', 'facing', 'the', 'health', 'and', 'agri-food', 'sectors']), (0.46511615458001815, ['We', 'are', 'committed', 'to', 'pooling', 'our', 'expertise', 'and', 'experience', 'to', 'support', 'countries', 'in', 'their', 'crisis', 'response', 'measures', 'and', 'efforts', 'to', 'achieve', 'the', 'Sustainable', 'Development', 'Goals']), (0.06976769083996354, ['We', 'must', 'recognize', 'this', 'opportunity', 'to', 'build', 'back', 'better,', 'as', 'noted', 'in', 'the', 'Policy', 'Brief', 'issued', 'by', 'the', 'United', 'Nations', 'Secretary-General'])]\n",
      "Summarize Text: \n",
      " We need to develop long-term sustainable strategies to address the challenges facing the health and agri-food sectors. We are committed to pooling our expertise and experience to support countries in their crisis response measures and efforts to achieve the Sustainable Development Goals\n"
     ]
    }
   ],
   "source": [
    "generate_summary( \"005.txt\", 2 )"
   ]
  }
 ],
 "metadata": {
  "kernelspec": {
   "display_name": "Python 3 (ipykernel)",
   "language": "python",
   "name": "python3"
  },
  "language_info": {
   "codemirror_mode": {
    "name": "ipython",
    "version": 3
   },
   "file_extension": ".py",
   "mimetype": "text/x-python",
   "name": "python",
   "nbconvert_exporter": "python",
   "pygments_lexer": "ipython3",
   "version": "3.9.12"
  }
 },
 "nbformat": 4,
 "nbformat_minor": 5
}
