{
 "cells": [
  {
   "cell_type": "code",
   "execution_count": 65,
   "id": "f035e95f",
   "metadata": {},
   "outputs": [
    {
     "name": "stderr",
     "output_type": "stream",
     "text": [
      "Warning message:\n",
      "\"package 'readtext' is in use and will not be installed\"\n"
     ]
    }
   ],
   "source": [
    "# Installs\n",
    "install.packages(\"readtext\", dependencies=T)\n",
    "\n",
    "# Imports\n",
    "library(readtext)"
   ]
  },
  {
   "cell_type": "code",
   "execution_count": 66,
   "id": "32fa9845",
   "metadata": {},
   "outputs": [],
   "source": [
    "# Cleaning environment data\n",
    "rm(list = ls())"
   ]
  },
  {
   "cell_type": "code",
   "execution_count": 67,
   "id": "953411fe",
   "metadata": {},
   "outputs": [],
   "source": [
    "# Working directory\n",
    "setwd('E:/unt_fe/assignment_1/Latest-News-Classifier/0. Latest News Classifier/01. Dataset Creation')\n",
    "\n",
    "# Path definition of the news archives\n",
    "path <- 'E:/unt_fe/assignment_1/Latest-News-Classifier/0. Latest News Classifier/00. Raw dataset/BBC/bbc-fulltext/bbc'"
   ]
  },
  {
   "cell_type": "code",
   "execution_count": null,
   "id": "56e70602",
   "metadata": {},
   "outputs": [],
   "source": []
  },
  {
   "cell_type": "code",
   "execution_count": 68,
   "id": "374d8a6c",
   "metadata": {},
   "outputs": [],
   "source": [
    "# List with the 5 categories\n",
    "list_categories <- list.files(path=path)\n",
    "\n",
    "# Save to dataset the number of files in each category folder\n",
    "summary_categories <- data.frame(matrix(ncol = 2, nrow = 0))\n",
    "colnames(summary_categories) <- c('Category', 'Number_of_Files')"
   ]
  },
  {
   "cell_type": "code",
   "execution_count": 69,
   "id": "5b21a482",
   "metadata": {},
   "outputs": [
    {
     "data": {
      "text/html": [
       "<style>\n",
       ".list-inline {list-style: none; margin:0; padding: 0}\n",
       ".list-inline>li {display: inline-block}\n",
       ".list-inline>li:not(:last-child)::after {content: \"\\00b7\"; padding: 0 .5ex}\n",
       "</style>\n",
       "<ol class=list-inline><li>'business'</li><li>'entertainment'</li><li>'politics'</li><li>'sport'</li><li>'tech'</li></ol>\n"
      ],
      "text/latex": [
       "\\begin{enumerate*}\n",
       "\\item 'business'\n",
       "\\item 'entertainment'\n",
       "\\item 'politics'\n",
       "\\item 'sport'\n",
       "\\item 'tech'\n",
       "\\end{enumerate*}\n"
      ],
      "text/markdown": [
       "1. 'business'\n",
       "2. 'entertainment'\n",
       "3. 'politics'\n",
       "4. 'sport'\n",
       "5. 'tech'\n",
       "\n",
       "\n"
      ],
      "text/plain": [
       "[1] \"business\"      \"entertainment\" \"politics\"      \"sport\"        \n",
       "[5] \"tech\"         "
      ]
     },
     "metadata": {},
     "output_type": "display_data"
    }
   ],
   "source": [
    "list_categories"
   ]
  },
  {
   "cell_type": "code",
   "execution_count": 70,
   "id": "816c941f",
   "metadata": {},
   "outputs": [],
   "source": [
    "for (category in list_categories){\n",
    "  category_path <- paste(path, category, sep='/')\n",
    "  n_files <- length(list.files(path=category_path))\n",
    "  \n",
    "  summary_categories = rbind(summary_categories, data.frame('Category'=category, 'Number_of_Files'=n_files))\n",
    "}"
   ]
  },
  {
   "cell_type": "code",
   "execution_count": 71,
   "id": "89a07617",
   "metadata": {},
   "outputs": [
    {
     "data": {
      "text/html": [
       "<table class=\"dataframe\">\n",
       "<caption>A data.frame: 5 × 2</caption>\n",
       "<thead>\n",
       "\t<tr><th scope=col>Category</th><th scope=col>Number_of_Files</th></tr>\n",
       "\t<tr><th scope=col>&lt;chr&gt;</th><th scope=col>&lt;int&gt;</th></tr>\n",
       "</thead>\n",
       "<tbody>\n",
       "\t<tr><td>business     </td><td>510</td></tr>\n",
       "\t<tr><td>entertainment</td><td>386</td></tr>\n",
       "\t<tr><td>politics     </td><td>417</td></tr>\n",
       "\t<tr><td>sport        </td><td>511</td></tr>\n",
       "\t<tr><td>tech         </td><td>401</td></tr>\n",
       "</tbody>\n",
       "</table>\n"
      ],
      "text/latex": [
       "A data.frame: 5 × 2\n",
       "\\begin{tabular}{ll}\n",
       " Category & Number\\_of\\_Files\\\\\n",
       " <chr> & <int>\\\\\n",
       "\\hline\n",
       "\t business      & 510\\\\\n",
       "\t entertainment & 386\\\\\n",
       "\t politics      & 417\\\\\n",
       "\t sport         & 511\\\\\n",
       "\t tech          & 401\\\\\n",
       "\\end{tabular}\n"
      ],
      "text/markdown": [
       "\n",
       "A data.frame: 5 × 2\n",
       "\n",
       "| Category &lt;chr&gt; | Number_of_Files &lt;int&gt; |\n",
       "|---|---|\n",
       "| business      | 510 |\n",
       "| entertainment | 386 |\n",
       "| politics      | 417 |\n",
       "| sport         | 511 |\n",
       "| tech          | 401 |\n",
       "\n"
      ],
      "text/plain": [
       "  Category      Number_of_Files\n",
       "1 business      510            \n",
       "2 entertainment 386            \n",
       "3 politics      417            \n",
       "4 sport         511            \n",
       "5 tech          401            "
      ]
     },
     "metadata": {},
     "output_type": "display_data"
    }
   ],
   "source": [
    "summary_categories"
   ]
  },
  {
   "cell_type": "code",
   "execution_count": 72,
   "id": "68263c1e",
   "metadata": {},
   "outputs": [],
   "source": [
    "# Read every folder and create the final dataframe\n",
    "df_final <- data.frame(matrix(ncol = 3, nrow = 0))\n",
    "colnames(df_final) <- c('doc_id', 'text', 'category')\n",
    "\n",
    "for(category in list_categories){\n",
    "  category_path <- paste(path, category, sep='/')\n",
    "\n",
    "  df <- readtext(category_path)\n",
    "  df[\"category\"] = category\n",
    "  \n",
    "  df_final = rbind(df_final, df)\n",
    "}"
   ]
  },
  {
   "cell_type": "code",
   "execution_count": 73,
   "id": "c86a9f2b",
   "metadata": {},
   "outputs": [],
   "source": [
    "colnames(df_final) <- c('File_Name', 'Content', 'Category')"
   ]
  },
  {
   "cell_type": "code",
   "execution_count": 74,
   "id": "19942712",
   "metadata": {},
   "outputs": [
    {
     "name": "stderr",
     "output_type": "stream",
     "text": [
      "Warning message:\n",
      "\"package 'magrittr' is in use and will not be installed\"\n",
      "Warning message:\n",
      "\"package 'dplyr' is in use and will not be installed\"\n"
     ]
    }
   ],
   "source": [
    "install.packages(\"magrittr\")\n",
    "install.packages(\"dplyr\")\n",
    "\n",
    "require(magrittr)\n",
    "require(dplyr)\n",
    "df_final <-\n",
    "  df_final %>% \n",
    "  mutate(Complete_Filename = paste(File_Name, Category, sep='-'))"
   ]
  },
  {
   "cell_type": "code",
   "execution_count": 75,
   "id": "e520e97a",
   "metadata": {},
   "outputs": [],
   "source": [
    "save(df_final, file='Dataset.rda')"
   ]
  },
  {
   "cell_type": "code",
   "execution_count": 76,
   "id": "36979a9c",
   "metadata": {},
   "outputs": [],
   "source": [
    "# Load dataset\n",
    "load(file='Dataset.rda')"
   ]
  },
  {
   "cell_type": "code",
   "execution_count": 77,
   "id": "7a7a070a",
   "metadata": {},
   "outputs": [
    {
     "name": "stderr",
     "output_type": "stream",
     "text": [
      "Warning message in utils::write.table(df_final, fileEncoding = \"utf8\", \"News_dataset.csv\", :\n",
      "\"invalid char string in output conversion\"\n"
     ]
    }
   ],
   "source": [
    "# Write csv to import to python\n",
    "write.csv2(df_final,fileEncoding = 'utf8', \"News_dataset.csv\", row.names = FALSE)"
   ]
  },
  {
   "cell_type": "code",
   "execution_count": null,
   "id": "4c3bd04d",
   "metadata": {},
   "outputs": [],
   "source": []
  }
 ],
 "metadata": {
  "kernelspec": {
   "display_name": "R",
   "language": "R",
   "name": "ir"
  },
  "language_info": {
   "codemirror_mode": "r",
   "file_extension": ".r",
   "mimetype": "text/x-r-source",
   "name": "R",
   "pygments_lexer": "r",
   "version": "4.2.1"
  }
 },
 "nbformat": 4,
 "nbformat_minor": 5
}
