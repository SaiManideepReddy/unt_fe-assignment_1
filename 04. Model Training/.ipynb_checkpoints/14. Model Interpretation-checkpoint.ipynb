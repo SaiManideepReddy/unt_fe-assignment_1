{
 "cells": [
  {
   "cell_type": "markdown",
   "metadata": {},
   "source": [
    "# Model Interpretation"
   ]
  },
  {
   "cell_type": "markdown",
   "metadata": {},
   "source": [
    "At this point we have selected the SVM as our preferred model to do the predictions. We will now study its behaviour by analyzing misclassified articles. Hopefully this will give us some insights on the way the model is working."
   ]
  },
  {
   "cell_type": "code",
   "execution_count": 7,
   "metadata": {},
   "outputs": [],
   "source": [
    "import pickle\n",
    "import pandas as pd\n",
    "import numpy as np\n",
    "import random"
   ]
  },
  {
   "cell_type": "markdown",
   "metadata": {},
   "source": [
    "Let's load what we need:"
   ]
  },
  {
   "cell_type": "code",
   "execution_count": 8,
   "metadata": {},
   "outputs": [],
   "source": [
    "# Dataframe\n",
    "path_df = r\"E:\\unt_fe\\assignment_1\\Latest-News-Classifier\\0. Latest News Classifier\\03. Feature Engineering\\Pickles\\df.pickle\"\n",
    "with open(path_df, 'rb') as data:\n",
    "    df = pickle.load(data)\n",
    "    \n",
    "# X_train\n",
    "path_X_train = r\"E:\\unt_fe\\assignment_1\\Latest-News-Classifier\\0. Latest News Classifier\\03. Feature Engineering\\Pickles\\X_train.pickle\"\n",
    "with open(path_X_train, 'rb') as data:\n",
    "    X_train = pickle.load(data)\n",
    "\n",
    "# X_test\n",
    "path_X_test = r\"E:\\unt_fe\\assignment_1\\Latest-News-Classifier\\0. Latest News Classifier\\03. Feature Engineering\\Pickles\\X_test.pickle\"\n",
    "with open(path_X_test, 'rb') as data:\n",
    "    X_test = pickle.load(data)\n",
    "\n",
    "# y_train\n",
    "path_y_train = r\"E:\\unt_fe\\assignment_1\\Latest-News-Classifier\\0. Latest News Classifier\\03. Feature Engineering\\Pickles\\y_train.pickle\"\n",
    "with open(path_y_train, 'rb') as data:\n",
    "    y_train = pickle.load(data)\n",
    "\n",
    "# y_test\n",
    "path_y_test = r\"E:\\unt_fe\\assignment_1\\Latest-News-Classifier\\0. Latest News Classifier\\03. Feature Engineering\\Pickles\\y_test.pickle\"\n",
    "with open(path_y_test, 'rb') as data:\n",
    "    y_test = pickle.load(data)\n",
    "\n",
    "# features_train\n",
    "path_features_train = r\"E:\\unt_fe\\assignment_1\\Latest-News-Classifier\\0. Latest News Classifier\\03. Feature Engineering\\Pickles\\features_train.pickle\"\n",
    "with open(path_features_train, 'rb') as data:\n",
    "    features_train = pickle.load(data)\n",
    "\n",
    "# labels_train\n",
    "path_labels_train = r\"E:\\unt_fe\\assignment_1\\Latest-News-Classifier\\0. Latest News Classifier\\03. Feature Engineering\\Pickles\\labels_train.pickle\"\n",
    "with open(path_labels_train, 'rb') as data:\n",
    "    labels_train = pickle.load(data)\n",
    "\n",
    "# features_test\n",
    "path_features_test = r\"E:\\unt_fe\\assignment_1\\Latest-News-Classifier\\0. Latest News Classifier\\03. Feature Engineering\\Pickles\\features_test.pickle\"\n",
    "with open(path_features_test, 'rb') as data:\n",
    "    features_test = pickle.load(data)\n",
    "\n",
    "# labels_test\n",
    "path_labels_test = r\"E:\\unt_fe\\assignment_1\\Latest-News-Classifier\\0. Latest News Classifier\\03. Feature Engineering\\Pickles\\labels_test.pickle\"\n",
    "with open(path_labels_test, 'rb') as data:\n",
    "    labels_test = pickle.load(data)\n",
    "    \n",
    "# SVM Model\n",
    "path_model = r\"E:\\unt_fe\\assignment_1\\Latest-News-Classifier\\0. Latest News Classifier\\04. Model Training\\Models\\best_svc.pickle\"\n",
    "with open(path_model, 'rb') as data:\n",
    "    svc_model = pickle.load(data)\n",
    "    \n",
    "# Category mapping dictionary\n",
    "category_codes = {\n",
    "    'business': 0,\n",
    "    'entertainment': 1,\n",
    "    'politics': 2,\n",
    "    'sport': 3,\n",
    "    'tech': 4\n",
    "}\n",
    "\n",
    "category_names = {\n",
    "    0: 'business',\n",
    "    1: 'entertainment',\n",
    "    2: 'politics',\n",
    "    3: 'sport',\n",
    "    4: 'tech'\n",
    "}"
   ]
  },
  {
   "cell_type": "markdown",
   "metadata": {},
   "source": [
    "Let's get the predictions on the test set:"
   ]
  },
  {
   "cell_type": "code",
   "execution_count": 9,
   "metadata": {},
   "outputs": [],
   "source": [
    "predictions = svc_model.predict(features_test)"
   ]
  },
  {
   "cell_type": "markdown",
   "metadata": {},
   "source": [
    "Now we'll create the Test Set dataframe with the actual and predicted categories:"
   ]
  },
  {
   "cell_type": "code",
   "execution_count": 10,
   "metadata": {},
   "outputs": [],
   "source": [
    "# Indexes of the test set\n",
    "index_X_test = X_test.index\n",
    "\n",
    "# We get them from the original df\n",
    "df_test = df.loc[index_X_test]\n",
    "\n",
    "# Add the predictions\n",
    "df_test['Prediction'] = predictions\n",
    "\n",
    "# Clean columns\n",
    "df_test = df_test[['Content', 'Category', 'Category_Code', 'Prediction']]\n",
    "\n",
    "# Decode\n",
    "df_test['Category_Predicted'] = df_test['Prediction']\n",
    "df_test = df_test.replace({'Category_Predicted':category_names})\n",
    "\n",
    "# Clean columns again\n",
    "df_test = df_test[['Content', 'Category', 'Category_Predicted']]"
   ]
  },
  {
   "cell_type": "code",
   "execution_count": 11,
   "metadata": {},
   "outputs": [
    {
     "data": {
      "text/html": [
       "<div>\n",
       "<style scoped>\n",
       "    .dataframe tbody tr th:only-of-type {\n",
       "        vertical-align: middle;\n",
       "    }\n",
       "\n",
       "    .dataframe tbody tr th {\n",
       "        vertical-align: top;\n",
       "    }\n",
       "\n",
       "    .dataframe thead th {\n",
       "        text-align: right;\n",
       "    }\n",
       "</style>\n",
       "<table border=\"1\" class=\"dataframe\">\n",
       "  <thead>\n",
       "    <tr style=\"text-align: right;\">\n",
       "      <th></th>\n",
       "      <th>Content</th>\n",
       "      <th>Category</th>\n",
       "      <th>Category_Predicted</th>\n",
       "    </tr>\n",
       "  </thead>\n",
       "  <tbody>\n",
       "    <tr>\n",
       "      <th>1691</th>\n",
       "      <td>Ireland call up uncapped Campbell\\r\\n\\r\\nUlste...</td>\n",
       "      <td>sport</td>\n",
       "      <td>3</td>\n",
       "    </tr>\n",
       "    <tr>\n",
       "      <th>1103</th>\n",
       "      <td>Gurkhas to help tsunami victims\\r\\n\\r\\nBritain...</td>\n",
       "      <td>politics</td>\n",
       "      <td>0</td>\n",
       "    </tr>\n",
       "    <tr>\n",
       "      <th>477</th>\n",
       "      <td>Egypt and Israel seal trade deal\\r\\n\\r\\nIn a s...</td>\n",
       "      <td>business</td>\n",
       "      <td>0</td>\n",
       "    </tr>\n",
       "    <tr>\n",
       "      <th>197</th>\n",
       "      <td>Cairn shares up on new oil find\\r\\n\\r\\nShares ...</td>\n",
       "      <td>business</td>\n",
       "      <td>0</td>\n",
       "    </tr>\n",
       "    <tr>\n",
       "      <th>475</th>\n",
       "      <td>Saudi NCCI's shares soar\\r\\n\\r\\nShares in Saud...</td>\n",
       "      <td>business</td>\n",
       "      <td>0</td>\n",
       "    </tr>\n",
       "  </tbody>\n",
       "</table>\n",
       "</div>"
      ],
      "text/plain": [
       "                                                Content  Category  \\\n",
       "1691  Ireland call up uncapped Campbell\\r\\n\\r\\nUlste...     sport   \n",
       "1103  Gurkhas to help tsunami victims\\r\\n\\r\\nBritain...  politics   \n",
       "477   Egypt and Israel seal trade deal\\r\\n\\r\\nIn a s...  business   \n",
       "197   Cairn shares up on new oil find\\r\\n\\r\\nShares ...  business   \n",
       "475   Saudi NCCI's shares soar\\r\\n\\r\\nShares in Saud...  business   \n",
       "\n",
       "     Category_Predicted  \n",
       "1691                  3  \n",
       "1103                  0  \n",
       "477                   0  \n",
       "197                   0  \n",
       "475                   0  "
      ]
     },
     "execution_count": 11,
     "metadata": {},
     "output_type": "execute_result"
    }
   ],
   "source": [
    "df_test.head()"
   ]
  },
  {
   "cell_type": "markdown",
   "metadata": {},
   "source": [
    "Let's get the misclassified articles:"
   ]
  },
  {
   "cell_type": "code",
   "execution_count": 12,
   "metadata": {},
   "outputs": [
    {
     "data": {
      "text/html": [
       "<div>\n",
       "<style scoped>\n",
       "    .dataframe tbody tr th:only-of-type {\n",
       "        vertical-align: middle;\n",
       "    }\n",
       "\n",
       "    .dataframe tbody tr th {\n",
       "        vertical-align: top;\n",
       "    }\n",
       "\n",
       "    .dataframe thead th {\n",
       "        text-align: right;\n",
       "    }\n",
       "</style>\n",
       "<table border=\"1\" class=\"dataframe\">\n",
       "  <thead>\n",
       "    <tr style=\"text-align: right;\">\n",
       "      <th></th>\n",
       "      <th>Content</th>\n",
       "      <th>Category</th>\n",
       "      <th>Category_Predicted</th>\n",
       "    </tr>\n",
       "  </thead>\n",
       "  <tbody>\n",
       "    <tr>\n",
       "      <th>1691</th>\n",
       "      <td>Ireland call up uncapped Campbell\\r\\n\\r\\nUlste...</td>\n",
       "      <td>sport</td>\n",
       "      <td>3</td>\n",
       "    </tr>\n",
       "    <tr>\n",
       "      <th>1103</th>\n",
       "      <td>Gurkhas to help tsunami victims\\r\\n\\r\\nBritain...</td>\n",
       "      <td>politics</td>\n",
       "      <td>0</td>\n",
       "    </tr>\n",
       "    <tr>\n",
       "      <th>477</th>\n",
       "      <td>Egypt and Israel seal trade deal\\r\\n\\r\\nIn a s...</td>\n",
       "      <td>business</td>\n",
       "      <td>0</td>\n",
       "    </tr>\n",
       "  </tbody>\n",
       "</table>\n",
       "</div>"
      ],
      "text/plain": [
       "                                                Content  Category  \\\n",
       "1691  Ireland call up uncapped Campbell\\r\\n\\r\\nUlste...     sport   \n",
       "1103  Gurkhas to help tsunami victims\\r\\n\\r\\nBritain...  politics   \n",
       "477   Egypt and Israel seal trade deal\\r\\n\\r\\nIn a s...  business   \n",
       "\n",
       "     Category_Predicted  \n",
       "1691                  3  \n",
       "1103                  0  \n",
       "477                   0  "
      ]
     },
     "execution_count": 12,
     "metadata": {},
     "output_type": "execute_result"
    }
   ],
   "source": [
    "condition = (df_test['Category'] != df_test['Category_Predicted'])\n",
    "\n",
    "df_misclassified = df_test[condition]\n",
    "\n",
    "df_misclassified.head(3)"
   ]
  },
  {
   "cell_type": "markdown",
   "metadata": {},
   "source": [
    "Let's get a sample of 3 articles. We'll define a function to make this process faster:"
   ]
  },
  {
   "cell_type": "code",
   "execution_count": 13,
   "metadata": {},
   "outputs": [],
   "source": [
    "def output_article(row_article):\n",
    "    print('Actual Category: %s' %(row_article['Category']))\n",
    "    print('Predicted Category: %s' %(row_article['Category_Predicted']))\n",
    "    print('-------------------------------------------')\n",
    "    print('Text: ')\n",
    "    print('%s' %(row_article['Content']))"
   ]
  },
  {
   "cell_type": "markdown",
   "metadata": {},
   "source": [
    "We'll get three random numbers from the indexes:"
   ]
  },
  {
   "cell_type": "code",
   "execution_count": 14,
   "metadata": {},
   "outputs": [
    {
     "data": {
      "text/plain": [
       "[1902, 955, 101]"
      ]
     },
     "execution_count": 14,
     "metadata": {},
     "output_type": "execute_result"
    }
   ],
   "source": [
    "random.seed(8)\n",
    "list_samples = random.sample(list(df_misclassified.index), 3)\n",
    "list_samples"
   ]
  },
  {
   "cell_type": "markdown",
   "metadata": {},
   "source": [
    "First case:"
   ]
  },
  {
   "cell_type": "code",
   "execution_count": 15,
   "metadata": {
    "scrolled": false
   },
   "outputs": [
    {
     "name": "stdout",
     "output_type": "stream",
     "text": [
      "Actual Category: tech\n",
      "Predicted Category: 4\n",
      "-------------------------------------------\n",
      "Text: \n",
      "Software watching while you work\r\n",
      "\r\n",
      "Software that can not only monitor every keystroke and action performed at a PC but also be used as legally binding evidence of wrong-doing has been unveiled.\r\n",
      "\r\n",
      "Worries about cyber-crime and sabotage have prompted many employers to consider monitoring employees. The developers behind the system claim it is a break-through in the way data is monitored and stored. But privacy advocates are concerned by the invasive nature of such software.\r\n",
      "\r\n",
      "The system is a joint venture between security firm 3ami and storage specialists BridgeHead Software. They have joined forces to create a system which can monitor computer activity, store it and retrieve disputed files within minutes. More and more firms are finding themselves in deep water as a result of data misuse. Sabotage and data theft are most commonly committed from within an organisation according to the National Hi-Tech Crime Unit (NHTCU) A survey conducted on its behalf by NOP found evidence that more than 80% of medium and large companies have been victims of some form of cyber-crime. BridgeHead Software has come up with techniques to prove, to a legal standard, that any stored file on a PC has not been tampered with. Ironically the impetus for developing the system came as a result of the Freedom of Information Act, which requires companies to store all data for a certain amount of time.\r\n",
      "\r\n",
      "The storage system has been incorporated into an application developed by security firm 3ami which allows every action on a computer to be logged. Potentially it could help employers to follow the trail of stolen files and pinpoint whether they had been emailed to a third party, copied, printed, deleted or saved to CD, floppy disk, memory stick or flash card. Other activities the system can monitor include the downloading of pornography, the use of racist or bullying language or the copying of applications for personal use. Increasingly organisations that handle sensitive data, such as governments, are using biometric log-ins such as fingerprinting to provide conclusive proof of who was using a particular machine at any given time. Privacy advocates are concerned that monitoring at work is not only damaging to employee's privacy but also to the relationship between employers and their staff. \"That is not the case,\" said Tim Ellsmore, managing director of 3ami. \"It is not about replacing dialogue but there are issues that you can talk through but you still need proof,\" he said. \"People need to recognise that you are using a PC as a representative of a company and that employers have a legal requirement to store data,\" he added.\n"
     ]
    }
   ],
   "source": [
    "output_article(df_misclassified.loc[list_samples[0]])"
   ]
  },
  {
   "cell_type": "markdown",
   "metadata": {},
   "source": [
    "Second case:"
   ]
  },
  {
   "cell_type": "code",
   "execution_count": 16,
   "metadata": {},
   "outputs": [
    {
     "name": "stdout",
     "output_type": "stream",
     "text": [
      "Actual Category: politics\n",
      "Predicted Category: 2\n",
      "-------------------------------------------\n",
      "Text: \n",
      "Cardinal criticises Iraq war cost\r\n",
      "\r\n",
      "Billions of pounds spent on conflict in Iraq and in the Middle East should have been used to reduce poverty, Cardinal Cormac Murphy-O'Connor has said.\r\n",
      "\r\n",
      "The head of the Catholic Church in England and Wales made the comments on BBC Radio 4 and will re-iterate his stance in his Christmas Midnight Mass. The cardinal used a Christmas message to denounce the war in Iraq as a \"terrible\" waste of money. He and the Archbishop of Canterbury have both spoken out about the war.\r\n",
      "\r\n",
      "Speaking on BBC Radio 4's Thought for the Day slot, he criticised the fact that \"billions\" have been spent on war, instead of being used to bring people \"out of dire poverty and malnourishment and disease\". The cardinal said 2005 should be the year for campaigning to \"make history poverty\". He added: \"If the governments of the rich countries were as ready to devote to peace the resources they are willing to commit to war, that would be to see with new eyes and speak with a new voice and perhaps then others would listen to us with new ears.\" The cardinal will touch on this theme again on Friday night when he will tell the congregation of 2,000 at Westminster Cathedral that peace is \"worth, always, striving for\".\r\n",
      "\r\n",
      "\"How is it that peace has not arrived?,\" the cardinal will ask. \"How is it that there is war in Iraq, violence in the Holy Land, and the horror of pain and death amongst the poor and deprived who suffer from injustice and thus do not find peace?\" \"How can one wish a happy Christmas for our fellow Christians in Iraq or in the Holy Land or those who suffer in Africa unless you and I, in whatever way is open to us, say and do what makes for peace?\" Both the Cardinal and Archbishop of Canterbury Dr Rowan Williams appealed for the weapons inspectors to be given more time in Iraq before the war started. Dr Williams has since criticised the government over its case for war, saying the failure to find weapons of mass destruction had damaged faith in the political system.\r\n",
      "\r\n",
      "On Friday, the Cardinal will ask the congregation to search for peace. \"It is possible, it is real, it is worth, always, striving for, because of the promise of Our Saviour,\" he will say. \"I also wish you peace in your homes because peace in your home is the beginning of peace in the homes of the community. \" A spokesman said Downing Street had no comment to make. But Prime Minister Tony Blair has said he will put Africa at the top of the agenda when Britain chairs the G8 summit next year.\n"
     ]
    }
   ],
   "source": [
    "output_article(df_misclassified.loc[list_samples[1]])"
   ]
  },
  {
   "cell_type": "markdown",
   "metadata": {},
   "source": [
    "Third case:"
   ]
  },
  {
   "cell_type": "code",
   "execution_count": 17,
   "metadata": {},
   "outputs": [
    {
     "name": "stdout",
     "output_type": "stream",
     "text": [
      "Actual Category: business\n",
      "Predicted Category: 0\n",
      "-------------------------------------------\n",
      "Text: \n",
      "US company admits Benin bribery\r\n",
      "\r\n",
      "A US defence and telecommunications company has agreed to pay $28.5m after admitting bribery in the West African state of Benin.\r\n",
      "\r\n",
      "The Titan corporation was accused of funnelling more than $2m into the 2001 re-election campaign of President Mathieu Kerekou. At the time, Titan was trying to get a higher price for a telecommunications project in Benin. There is no suggestion that Mr Kerekou was himself aware of any wrongdoing. Titan, a California-based company, pleaded guilty to falsifying its accounts and violating US anti-bribery laws. It agreed to pay $13m in criminal penalties, as well as $15.5m to settle a civil lawsuit brought by the US financial watchdog, the Securities and Exchange Commission (SEC).\r\n",
      "\r\n",
      "The SEC had accused Titan of illegally paying $2.1m to an unnamed agent in Benin claiming ties with President Kerekou. Some of the money was used to pay for T-shirts with campaign slogans on them ahead of the 2001 election. Shortly after the poll, which Mr Kerekou won, Benin officials agreed to quadruple Titan's management fee. Prosecuting attorney Carol Lam said: \"All US companies should take note that attempting to bribe foreign officials is criminal conduct and will be appropriately prosecuted.\" The company says it no longer tolerates such practices. Under the US Foreign Corrupt Practices Act, it is a crime for American firms to bribe foreign officials.\n"
     ]
    }
   ],
   "source": [
    "output_article(df_misclassified.loc[list_samples[2]])"
   ]
  },
  {
   "cell_type": "markdown",
   "metadata": {},
   "source": [
    "We can see that in all cases the category is not 100% clear, since these articles contain concepts of both categories. These errors will always happen and we are not looking forward to be 100% accurate on them."
   ]
  },
  {
   "cell_type": "code",
   "execution_count": null,
   "metadata": {},
   "outputs": [],
   "source": []
  }
 ],
 "metadata": {
  "kernelspec": {
   "display_name": "Python 3 (ipykernel)",
   "language": "python",
   "name": "python3"
  },
  "language_info": {
   "codemirror_mode": {
    "name": "ipython",
    "version": 3
   },
   "file_extension": ".py",
   "mimetype": "text/x-python",
   "name": "python",
   "nbconvert_exporter": "python",
   "pygments_lexer": "ipython3",
   "version": "3.9.12"
  }
 },
 "nbformat": 4,
 "nbformat_minor": 2
}
